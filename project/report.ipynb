{
 "cells": [
  {
   "cell_type": "markdown",
   "metadata": {},
   "source": [
    "<center><h4>Sorbonne Université</h4></center>\n",
    "<center><h4 style=\"margin: 5px;\">3I025 - Méthodes et Outils de l'IA et de la RO</h4></center>\n",
    "\n",
    "<center><h1>Mini-Projet: Cooperative Path-Finding</h1></center>\n",
    "<center><h3 style=\"margin: 5px;\">Imad Eddine REZGUI</h3></center>"
   ]
  },
  {
   "cell_type": "markdown",
   "metadata": {},
   "source": [
    "## Introduction\n",
    "Le pathfinding est un problème de l'intelligence artificielle qui consiste à trouver comment se déplacer dans un environnement entre un point de départ et un point d'arrivée en prenant en compte différentes contraintes, pour résoudre ce type de problème, plusieurs algorithmes classiques comme l'algorithme *A&ast;* peuvent être utilisés.  \n",
    "Lorsqu'une seule entité dites *agent* parcourt une carte, la recherche *A&ast;* de base est parfaitement adéquate mais lorsque plusieurs agents se déplacent en même temps, une simple recherche *A&ast;* n'est pas suffisante pour éviter la collision entre ces agents, les agents doivent donc coopérer afin de trouver des chemins qui n'engendrent pas des collisions entre eux, ce dernier problème est le *Cooperative Path-Finding*.  \n",
    "Le *Cooperative Path-Finding* est utilisé de façon intensive dans les *jeux vidéo* et la *robotique* où des entités, telles que des *personnages* dans le cas des *jeux video* ou des *robots* dans le cas de la *robotique*, se déplacent en temps réel dans un environnement en évolution.  \n",
    "Dans ce projet on s'intéresse à la résolution de ce problème en utilisant plusieurs stratégies."
   ]
  },
  {
   "cell_type": "markdown",
   "metadata": {},
   "source": [
    "## Présentation\n",
    "Pour représenter le problème on utilise un jeu dont l'environnement est une grille a deux dimensions, plusieurs personnages doivent chacun atteindre un objectif (une fiole) qui leur propre, sans qu’il y ait des collisions entre eux et en miminimisant le nombre d'actions a effectuer.  \n",
    "les situations de collision considérées sont où les personnages:\n",
    "- se trouvent au même moment sur la même case, ou bien\n",
    "- deux personnages se \"croisent\"  \n",
    "\n",
    "Les personnages ne peuvent faire qu'une seule action a la fois, les actions autorisées sont *haut, bas, gauche et doite*, une action est représentée pas le deplacement d'un personnage d'une seule case dans la grille.  \n",
    "On considérer aussi que chaque personnage a connaissance de l'environnement et des positions de tous les autres personnages.  \n",
    "Afin de résoudre le problème du *Cooperative Path-Finding* trois stratégies sont étudiées:\n",
    "- Une stratégie opportuniste \n",
    "- Une stratégie coopérative de base\n",
    "- Une stratégie coopérative avancée"
   ]
  },
  {
   "cell_type": "markdown",
   "metadata": {},
   "source": [
    "## Stratégie opportuniste \n",
    "Dans cette stratégie on utilise la méthode du *Path Splicing*, chaque personnage commence par calculer son chemin jusqu’à son objectif en utilisant l'algorithme *A&ast;* sans se préoccuper des autres personnages.  \n",
    "Lorsqu'un personnage detecte que son chemin engendrera une collision, il considére la position de cette collision un obstacle et il recalcule une partie *\"M\"* de son chemin où la collision aura lieu en utilisant l'algorithme *A&ast;*"
   ]
  },
  {
   "cell_type": "code",
   "execution_count": 1,
   "metadata": {},
   "outputs": [
    {
     "name": "stdout",
     "output_type": "stream",
     "text": [
      "pygame 1.9.4\n",
      "Hello from the pygame community. https://www.pygame.org/contribute.html\n",
      "Init states: [(2, 9), (17, 9)]\n",
      "Goal states: [(18, 9), (1, 9)]\n",
      "[Player1]: Reached Goal (1, 9) in 15 iterations\n",
      "[Player0]: Reached Goal (18, 9) in 17 iterations\n",
      "All players reached their goals in 17 iterations\n"
     ]
    }
   ],
   "source": [
    "from utils.strategies import OpportunisticStrat\n",
    "from utils.engine import Engine\n",
    "\n",
    "engine = Engine(\"test5\")\n",
    "engine.setGoals([(18,9), (1,9)])\n",
    "\n",
    "strategy = OpportunisticStrat(3)\n",
    "engine.play(strategy)"
   ]
  },
  {
   "cell_type": "markdown",
   "metadata": {},
   "source": [
    "#### Résultats"
   ]
  },
  {
   "cell_type": "markdown",
   "metadata": {},
   "source": [
    "- La qualité du chemin recalculé dépend beaucoup de la longeur *\"M\"*. \n",
    "- La stratégie peut n'utiliser aucune partie du chemin calculé au début de l'exécution dans le cas où il existe plusieurs collisions\n",
    "- Ne gére pas les situations où un personnage doit attendre sur place, par exemple cette situation:  \n",
    "<img src=\"images/stay.png\" width=\"30%\">"
   ]
  },
  {
   "cell_type": "markdown",
   "metadata": {},
   "source": [
    "### Stratégie Coopérative De Base\n",
    "Dans cette stratégie, chaque personnage commence par calculer son chemin jusqu’à son objectif en utilisant l'algorithme *A&ast;* sans se préoccuper des autres personnages.  \n",
    "Les personnages sont ensuite grouper de telle façon que les personnages de chaque groupe n'ont aucune case commune, les personnages de chaque groupe peuvent être donc exécutés en parallèle sans qu’il y ait de collision entre eux.  \n",
    "Les groupes sont executès les uns après les autres, ainsi, plusieurs stratégie d'ordre de passage peuvent être utilisées comme: FIFO ou le plus court chemin d'abord "
   ]
  },
  {
   "cell_type": "code",
   "execution_count": 9,
   "metadata": {},
   "outputs": [
    {
     "name": "stdout",
     "output_type": "stream",
     "text": [
      "Init states: [(2, 9), (17, 9)]\n",
      "Goal states: [(18, 9), (1, 9)]\n",
      "[Player0]: Reached Goal (18, 9) in 17 iterations\n",
      "[Player1]: Reached Goal (1, 9) in 35 iterations\n",
      "All players reached their goals in 35 iterations\n"
     ]
    }
   ],
   "source": [
    "from utils.strategies import BaseStrat\n",
    "from utils.engine import Engine\n",
    "\n",
    "engine = Engine(\"test5\")\n",
    "engine.setGoals([(18,9), (1,9)])\n",
    "\n",
    "strategy = BaseStrat()\n",
    "engine.play(strategy)"
   ]
  },
  {
   "cell_type": "markdown",
   "metadata": {},
   "source": [
    "#### Résultats"
   ]
  },
  {
   "cell_type": "markdown",
   "metadata": {},
   "source": [
    "- Peu performante: même si deux personnages partagent une case, il n'y a pas forcément de collision et ils peuvent être exécutés en parallèle mais la stratégie ne prends pas cette situation en compte"
   ]
  },
  {
   "cell_type": "markdown",
   "metadata": {},
   "source": [
    "### Stratégie Coopérative Avancée\n",
    "Dans cette stratégie, on prend en compte le temps, on ajoute alors une dimension supplémentaire a l'environnement pour la gestion du temps.  \n",
    "Chaque personnage utilise maintenant un algorithme *A&ast;* spatio-temporelle en considérant les emplacements des autres personnages.  \n",
    "Les emplacements de chaque personnages sont stockés dans une structure spatio-temporelle partagée dites *table de réservation spatio-temporelle*\n"
   ]
  },
  {
   "cell_type": "code",
   "execution_count": null,
   "metadata": {},
   "outputs": [],
   "source": [
    "from utils.strategies import AdvancedStrat\n",
    "from utils.engine import Engine\n",
    "\n",
    "engine = Engine(\"test5\")\n",
    "engine.setGoals([(18,9), (1,9)])\n",
    "\n",
    "strategy = AdvancedStrat()\n",
    "engine.play(strategy)"
   ]
  },
  {
   "cell_type": "markdown",
   "metadata": {},
   "source": [
    "#### Résultats\n",
    "- Stratégie très efficace\n",
    "- Risque de non terminaison si le personnage ne peut jamais atteindre son objectif"
   ]
  },
  {
   "cell_type": "markdown",
   "metadata": {},
   "source": [
    "### Comparaison des performances des trois stratégie dans des cartes cifférentes"
   ]
  },
  {
   "cell_type": "markdown",
   "metadata": {},
   "source": [
    "<img src=\"images/stay.png\" width=\"30%\">"
   ]
  },
  {
   "cell_type": "markdown",
   "metadata": {},
   "source": [
    "#### Stratégie opportuniste\n",
    "Collision et ne se termine pas"
   ]
  },
  {
   "cell_type": "markdown",
   "metadata": {},
   "source": [
    "#### Stratégie Coopérative De Base"
   ]
  },
  {
   "cell_type": "code",
   "execution_count": 15,
   "metadata": {},
   "outputs": [
    {
     "name": "stdout",
     "output_type": "stream",
     "text": [
      "Init states: [(2, 9), (17, 9)]\n",
      "Goal states: [(18, 9), (1, 9)]\n",
      "[Player0]: Reached Goal (18, 9) in 17 iterations\n",
      "[Player1]: Reached Goal (1, 9) in 35 iterations\n",
      "All players reached their goals in 35 iterations\n"
     ]
    }
   ],
   "source": [
    "from utils.strategies import BaseStrat\n",
    "from utils.engine import Engine\n",
    "\n",
    "engine = Engine(\"test5\")\n",
    "engine.setGoals([(18,9), (1,9)])\n",
    "\n",
    "strategy = BaseStrat()\n",
    "engine.play(strategy)"
   ]
  },
  {
   "cell_type": "markdown",
   "metadata": {},
   "source": [
    "#### Stratégie Coopérative Avancée"
   ]
  },
  {
   "cell_type": "code",
   "execution_count": 14,
   "metadata": {},
   "outputs": [
    {
     "name": "stdout",
     "output_type": "stream",
     "text": [
      "Init states: [(2, 9), (17, 9)]\n",
      "Goal states: [(18, 9), (1, 9)]\n",
      "[Player0]: Reached Goal (18, 9) in 15 iterations\n",
      "[Player1]: Reached Goal (1, 9) in 15 iterations\n",
      "All players reached their goals in 15 iterations\n"
     ]
    }
   ],
   "source": [
    "from utils.strategies import AdvancedStrat\n",
    "from utils.engine import Engine\n",
    "\n",
    "engine = Engine(\"test3\")\n",
    "engine.setGoals([(18,9), (1,9)])\n",
    "\n",
    "strategy = AdvancedStrat()\n",
    "engine.play(strategy)"
   ]
  },
  {
   "cell_type": "markdown",
   "metadata": {},
   "source": [
    "<img src=\"images/test4.png\" width=\"30%\">"
   ]
  },
  {
   "cell_type": "markdown",
   "metadata": {},
   "source": [
    "#### Stratégie opportuniste\n",
    "Collision et ne se termine pas\n",
    "\n",
    "#### Stratégie Coopérative De Base\n",
    "Collision et ne se termine pas"
   ]
  },
  {
   "cell_type": "markdown",
   "metadata": {},
   "source": [
    "#### Stratégie Coopérative Avancée"
   ]
  },
  {
   "cell_type": "code",
   "execution_count": 18,
   "metadata": {},
   "outputs": [
    {
     "name": "stdout",
     "output_type": "stream",
     "text": [
      "Init states: [(2, 9), (17, 9)]\n",
      "Goal states: [(18, 7), (1, 11)]\n",
      "[Player0]: Reached Goal (18, 7) in 17 iterations\n",
      "[Player1]: Reached Goal (1, 11) in 23 iterations\n",
      "All players reached their goals in 23 iterations\n"
     ]
    }
   ],
   "source": [
    "from utils.strategies import AdvancedStrat\n",
    "from utils.engine import Engine\n",
    "\n",
    "engine = Engine(\"test4\")\n",
    "engine.setGoals([(18,7), (1,11)])\n",
    "\n",
    "strategy = AdvancedStrat()\n",
    "engine.play(strategy)"
   ]
  },
  {
   "cell_type": "code",
   "execution_count": null,
   "metadata": {},
   "outputs": [],
   "source": []
  }
 ],
 "metadata": {
  "kernelspec": {
   "display_name": "Python 3",
   "language": "python",
   "name": "python3"
  },
  "language_info": {
   "codemirror_mode": {
    "name": "ipython",
    "version": 3
   },
   "file_extension": ".py",
   "mimetype": "text/x-python",
   "name": "python",
   "nbconvert_exporter": "python",
   "pygments_lexer": "ipython3",
   "version": "3.6.7"
  }
 },
 "nbformat": 4,
 "nbformat_minor": 2
}
